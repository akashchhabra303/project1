{
 "cells": [
  {
   "cell_type": "raw",
   "metadata": {},
   "source": [
    "Limits of project: U.S. movie industry only\n",
    "Timeframe: 1997 – 2018\n",
    "Data source: IMDB\n",
    "Objective: research on the trends and continuing viability of the movie industry\n",
    "Charts and analysis to focus on:\n",
    "                - examine movie viewer demographics by gender\n",
    "                - examine movie viewer gender genre preferences\n",
    "                - examine movie viewer demographics by age\n",
    "                - examine movie viewer age genre preferences\n",
    "\n",
    "Data column names:\n",
    "                allgenders_0age_avg_vote\taverage rating from users with age lower than 18\n",
    "                allgenders_0age_votes\t\tnumber of votes from users with age lower than 18\n",
    "                allgenders_18age_avg_vote\taverage rating from users with age greater or equal to 18 and lower than 30\n",
    "                allgenders_18age_votes\t\tnumber of votes from users with age greater or equal to 18 and lower than 30\n",
    "                allgenders_30age_avg_vote\taverage rating from users with age greater or equal to 30 and lower than 45\n",
    "                allgenders_30age_votes\t\tnumber of votes from users with age greater or equal to 30 and lower than 45\n",
    "                allgenders_45age_avg_vote\taverage rating from users with age greater or equal to 45\n",
    "                allgenders_45age_votes\t\tnumber of votes from users with age greater or equal to\n",
    "                \n",
    "                males_allages_avg_vote\t\taverage rating from all male users with demographic data available (all ages)\n",
    "                males_allages_votes\t\t    number of votes from all male users with demographic data available (all ages)\n",
    "                males_0age_avg_vote\t\t    average rating from male users with age lower than 18\n",
    "                males_0age_votes\t\t    number of votes from male users with age lower than 18\n",
    "                males_18age_avg_vote\t\taverage rating from male users with age greater or equal to 18 and lower than 30\n",
    "                males_18age_votes\t\t    number of votes from male users with age greater or equal to 18 and lower than 30\n",
    "                males_30age_avg_vote\t\taverage rating from male users with age greater or equal to 30 and lower than 45\n",
    "                males_30age_votes\t\t    number of votes from male users with age greater or equal to 30 and lower than 45\n",
    "                males_45age_avg_vote\t\taverage rating from male users with age greater or equal to 45\n",
    "                males_45age_votes\t\t    number of votes from male users with age greater or equal to 45\n",
    "\n",
    "                females_allages_avg_vote\taverage rating from all female users with demographic data available (all ages)\n",
    "                females_allages_votes\t\tnumber of votes from all female users with demographic data available (all ages)\n",
    "                females_0age_avg_vote\t\taverage rating from female users with age lower than 18\n",
    "                females_0age_votes\t\t    number of votes from female users with age lower than 18\n",
    "                females_18age_avg_vote\t\taverage rating from female users with age greater or equal to 18 and lower than 30\n",
    "                females_18age_votes\t\t    number of votes from female users with age greater or equal to 18 and lower than 30\n",
    "                females_30age_avg_vote\t\taverage rating from female users with age greater or equal to 30 and lower than 45\n",
    "                females_30age_votes\t\t    number of votes from female users with age greater or equal to 30 and lower than 45\n",
    "                females_45age_avg_vote\t\taverage rating from male users with age greater or equal to 45\n",
    "                females_45age_votes\t\t    number of votes from male users with age greater or equal to 45"
   ]
  },
  {
   "cell_type": "code",
   "execution_count": 1,
   "metadata": {},
   "outputs": [],
   "source": [
    "# Dependencies and Setup\n",
    "import matplotlib.pyplot as plt\n",
    "import pandas as pd\n",
    "import numpy as np\n",
    "import requests\n",
    "import time\n",
    "from scipy.stats import linregress"
   ]
  },
  {
   "cell_type": "markdown",
   "metadata": {},
   "source": [
    "The dependencies provides for the initial analysis of limited data on the US movie industry over the last 20 years.\n",
    "Further consideration is given to extending the analysis in the future, to cover the  broader  global movie industry using other data sources, doing regression analysis and making projections into the future of the industry."
   ]
  },
  {
   "cell_type": "code",
   "execution_count": 2,
   "metadata": {},
   "outputs": [
    {
     "ename": "FileNotFoundError",
     "evalue": "[Errno 2] File b'Resources/IMDB_movies_and_ratings.csv' does not exist: b'Resources/IMDB_movies_and_ratings.csv'",
     "output_type": "error",
     "traceback": [
      "\u001b[0;31m---------------------------------------------------------------------------\u001b[0m",
      "\u001b[0;31mFileNotFoundError\u001b[0m                         Traceback (most recent call last)",
      "\u001b[0;32m<ipython-input-2-6654407a1565>\u001b[0m in \u001b[0;36m<module>\u001b[0;34m\u001b[0m\n\u001b[1;32m      1\u001b[0m \u001b[0;31m# Read cleaned movie data into pandas dataframe\u001b[0m\u001b[0;34m\u001b[0m\u001b[0;34m\u001b[0m\u001b[0;34m\u001b[0m\u001b[0m\n\u001b[0;32m----> 2\u001b[0;31m \u001b[0mIMDB_movies_df\u001b[0m\u001b[0;34m=\u001b[0m\u001b[0mpd\u001b[0m\u001b[0;34m.\u001b[0m\u001b[0mread_csv\u001b[0m\u001b[0;34m(\u001b[0m\u001b[0;34m\"Resources/IMDB_movies_and_ratings.csv\"\u001b[0m\u001b[0;34m)\u001b[0m\u001b[0;34m\u001b[0m\u001b[0;34m\u001b[0m\u001b[0m\n\u001b[0m\u001b[1;32m      3\u001b[0m \u001b[0;34m\u001b[0m\u001b[0m\n\u001b[1;32m      4\u001b[0m \u001b[0;31m# Data clean: remove old index from csv file\u001b[0m\u001b[0;34m\u001b[0m\u001b[0;34m\u001b[0m\u001b[0;34m\u001b[0m\u001b[0m\n\u001b[1;32m      5\u001b[0m \u001b[0;32mdel\u001b[0m \u001b[0mIMDB_movies_df\u001b[0m\u001b[0;34m[\u001b[0m\u001b[0;34m\"Unnamed: 0\"\u001b[0m\u001b[0;34m]\u001b[0m\u001b[0;34m\u001b[0m\u001b[0;34m\u001b[0m\u001b[0m\n",
      "\u001b[0;32m~/opt/anaconda3/envs/pythondata/lib/python3.6/site-packages/pandas/io/parsers.py\u001b[0m in \u001b[0;36mparser_f\u001b[0;34m(filepath_or_buffer, sep, delimiter, header, names, index_col, usecols, squeeze, prefix, mangle_dupe_cols, dtype, engine, converters, true_values, false_values, skipinitialspace, skiprows, skipfooter, nrows, na_values, keep_default_na, na_filter, verbose, skip_blank_lines, parse_dates, infer_datetime_format, keep_date_col, date_parser, dayfirst, cache_dates, iterator, chunksize, compression, thousands, decimal, lineterminator, quotechar, quoting, doublequote, escapechar, comment, encoding, dialect, error_bad_lines, warn_bad_lines, delim_whitespace, low_memory, memory_map, float_precision)\u001b[0m\n\u001b[1;32m    683\u001b[0m         )\n\u001b[1;32m    684\u001b[0m \u001b[0;34m\u001b[0m\u001b[0m\n\u001b[0;32m--> 685\u001b[0;31m         \u001b[0;32mreturn\u001b[0m \u001b[0m_read\u001b[0m\u001b[0;34m(\u001b[0m\u001b[0mfilepath_or_buffer\u001b[0m\u001b[0;34m,\u001b[0m \u001b[0mkwds\u001b[0m\u001b[0;34m)\u001b[0m\u001b[0;34m\u001b[0m\u001b[0;34m\u001b[0m\u001b[0m\n\u001b[0m\u001b[1;32m    686\u001b[0m \u001b[0;34m\u001b[0m\u001b[0m\n\u001b[1;32m    687\u001b[0m     \u001b[0mparser_f\u001b[0m\u001b[0;34m.\u001b[0m\u001b[0m__name__\u001b[0m \u001b[0;34m=\u001b[0m \u001b[0mname\u001b[0m\u001b[0;34m\u001b[0m\u001b[0;34m\u001b[0m\u001b[0m\n",
      "\u001b[0;32m~/opt/anaconda3/envs/pythondata/lib/python3.6/site-packages/pandas/io/parsers.py\u001b[0m in \u001b[0;36m_read\u001b[0;34m(filepath_or_buffer, kwds)\u001b[0m\n\u001b[1;32m    455\u001b[0m \u001b[0;34m\u001b[0m\u001b[0m\n\u001b[1;32m    456\u001b[0m     \u001b[0;31m# Create the parser.\u001b[0m\u001b[0;34m\u001b[0m\u001b[0;34m\u001b[0m\u001b[0;34m\u001b[0m\u001b[0m\n\u001b[0;32m--> 457\u001b[0;31m     \u001b[0mparser\u001b[0m \u001b[0;34m=\u001b[0m \u001b[0mTextFileReader\u001b[0m\u001b[0;34m(\u001b[0m\u001b[0mfp_or_buf\u001b[0m\u001b[0;34m,\u001b[0m \u001b[0;34m**\u001b[0m\u001b[0mkwds\u001b[0m\u001b[0;34m)\u001b[0m\u001b[0;34m\u001b[0m\u001b[0;34m\u001b[0m\u001b[0m\n\u001b[0m\u001b[1;32m    458\u001b[0m \u001b[0;34m\u001b[0m\u001b[0m\n\u001b[1;32m    459\u001b[0m     \u001b[0;32mif\u001b[0m \u001b[0mchunksize\u001b[0m \u001b[0;32mor\u001b[0m \u001b[0miterator\u001b[0m\u001b[0;34m:\u001b[0m\u001b[0;34m\u001b[0m\u001b[0;34m\u001b[0m\u001b[0m\n",
      "\u001b[0;32m~/opt/anaconda3/envs/pythondata/lib/python3.6/site-packages/pandas/io/parsers.py\u001b[0m in \u001b[0;36m__init__\u001b[0;34m(self, f, engine, **kwds)\u001b[0m\n\u001b[1;32m    893\u001b[0m             \u001b[0mself\u001b[0m\u001b[0;34m.\u001b[0m\u001b[0moptions\u001b[0m\u001b[0;34m[\u001b[0m\u001b[0;34m\"has_index_names\"\u001b[0m\u001b[0;34m]\u001b[0m \u001b[0;34m=\u001b[0m \u001b[0mkwds\u001b[0m\u001b[0;34m[\u001b[0m\u001b[0;34m\"has_index_names\"\u001b[0m\u001b[0;34m]\u001b[0m\u001b[0;34m\u001b[0m\u001b[0;34m\u001b[0m\u001b[0m\n\u001b[1;32m    894\u001b[0m \u001b[0;34m\u001b[0m\u001b[0m\n\u001b[0;32m--> 895\u001b[0;31m         \u001b[0mself\u001b[0m\u001b[0;34m.\u001b[0m\u001b[0m_make_engine\u001b[0m\u001b[0;34m(\u001b[0m\u001b[0mself\u001b[0m\u001b[0;34m.\u001b[0m\u001b[0mengine\u001b[0m\u001b[0;34m)\u001b[0m\u001b[0;34m\u001b[0m\u001b[0;34m\u001b[0m\u001b[0m\n\u001b[0m\u001b[1;32m    896\u001b[0m \u001b[0;34m\u001b[0m\u001b[0m\n\u001b[1;32m    897\u001b[0m     \u001b[0;32mdef\u001b[0m \u001b[0mclose\u001b[0m\u001b[0;34m(\u001b[0m\u001b[0mself\u001b[0m\u001b[0;34m)\u001b[0m\u001b[0;34m:\u001b[0m\u001b[0;34m\u001b[0m\u001b[0;34m\u001b[0m\u001b[0m\n",
      "\u001b[0;32m~/opt/anaconda3/envs/pythondata/lib/python3.6/site-packages/pandas/io/parsers.py\u001b[0m in \u001b[0;36m_make_engine\u001b[0;34m(self, engine)\u001b[0m\n\u001b[1;32m   1133\u001b[0m     \u001b[0;32mdef\u001b[0m \u001b[0m_make_engine\u001b[0m\u001b[0;34m(\u001b[0m\u001b[0mself\u001b[0m\u001b[0;34m,\u001b[0m \u001b[0mengine\u001b[0m\u001b[0;34m=\u001b[0m\u001b[0;34m\"c\"\u001b[0m\u001b[0;34m)\u001b[0m\u001b[0;34m:\u001b[0m\u001b[0;34m\u001b[0m\u001b[0;34m\u001b[0m\u001b[0m\n\u001b[1;32m   1134\u001b[0m         \u001b[0;32mif\u001b[0m \u001b[0mengine\u001b[0m \u001b[0;34m==\u001b[0m \u001b[0;34m\"c\"\u001b[0m\u001b[0;34m:\u001b[0m\u001b[0;34m\u001b[0m\u001b[0;34m\u001b[0m\u001b[0m\n\u001b[0;32m-> 1135\u001b[0;31m             \u001b[0mself\u001b[0m\u001b[0;34m.\u001b[0m\u001b[0m_engine\u001b[0m \u001b[0;34m=\u001b[0m \u001b[0mCParserWrapper\u001b[0m\u001b[0;34m(\u001b[0m\u001b[0mself\u001b[0m\u001b[0;34m.\u001b[0m\u001b[0mf\u001b[0m\u001b[0;34m,\u001b[0m \u001b[0;34m**\u001b[0m\u001b[0mself\u001b[0m\u001b[0;34m.\u001b[0m\u001b[0moptions\u001b[0m\u001b[0;34m)\u001b[0m\u001b[0;34m\u001b[0m\u001b[0;34m\u001b[0m\u001b[0m\n\u001b[0m\u001b[1;32m   1136\u001b[0m         \u001b[0;32melse\u001b[0m\u001b[0;34m:\u001b[0m\u001b[0;34m\u001b[0m\u001b[0;34m\u001b[0m\u001b[0m\n\u001b[1;32m   1137\u001b[0m             \u001b[0;32mif\u001b[0m \u001b[0mengine\u001b[0m \u001b[0;34m==\u001b[0m \u001b[0;34m\"python\"\u001b[0m\u001b[0;34m:\u001b[0m\u001b[0;34m\u001b[0m\u001b[0;34m\u001b[0m\u001b[0m\n",
      "\u001b[0;32m~/opt/anaconda3/envs/pythondata/lib/python3.6/site-packages/pandas/io/parsers.py\u001b[0m in \u001b[0;36m__init__\u001b[0;34m(self, src, **kwds)\u001b[0m\n\u001b[1;32m   1915\u001b[0m         \u001b[0mkwds\u001b[0m\u001b[0;34m[\u001b[0m\u001b[0;34m\"usecols\"\u001b[0m\u001b[0;34m]\u001b[0m \u001b[0;34m=\u001b[0m \u001b[0mself\u001b[0m\u001b[0;34m.\u001b[0m\u001b[0musecols\u001b[0m\u001b[0;34m\u001b[0m\u001b[0;34m\u001b[0m\u001b[0m\n\u001b[1;32m   1916\u001b[0m \u001b[0;34m\u001b[0m\u001b[0m\n\u001b[0;32m-> 1917\u001b[0;31m         \u001b[0mself\u001b[0m\u001b[0;34m.\u001b[0m\u001b[0m_reader\u001b[0m \u001b[0;34m=\u001b[0m \u001b[0mparsers\u001b[0m\u001b[0;34m.\u001b[0m\u001b[0mTextReader\u001b[0m\u001b[0;34m(\u001b[0m\u001b[0msrc\u001b[0m\u001b[0;34m,\u001b[0m \u001b[0;34m**\u001b[0m\u001b[0mkwds\u001b[0m\u001b[0;34m)\u001b[0m\u001b[0;34m\u001b[0m\u001b[0;34m\u001b[0m\u001b[0m\n\u001b[0m\u001b[1;32m   1918\u001b[0m         \u001b[0mself\u001b[0m\u001b[0;34m.\u001b[0m\u001b[0munnamed_cols\u001b[0m \u001b[0;34m=\u001b[0m \u001b[0mself\u001b[0m\u001b[0;34m.\u001b[0m\u001b[0m_reader\u001b[0m\u001b[0;34m.\u001b[0m\u001b[0munnamed_cols\u001b[0m\u001b[0;34m\u001b[0m\u001b[0;34m\u001b[0m\u001b[0m\n\u001b[1;32m   1919\u001b[0m \u001b[0;34m\u001b[0m\u001b[0m\n",
      "\u001b[0;32mpandas/_libs/parsers.pyx\u001b[0m in \u001b[0;36mpandas._libs.parsers.TextReader.__cinit__\u001b[0;34m()\u001b[0m\n",
      "\u001b[0;32mpandas/_libs/parsers.pyx\u001b[0m in \u001b[0;36mpandas._libs.parsers.TextReader._setup_parser_source\u001b[0;34m()\u001b[0m\n",
      "\u001b[0;31mFileNotFoundError\u001b[0m: [Errno 2] File b'Resources/IMDB_movies_and_ratings.csv' does not exist: b'Resources/IMDB_movies_and_ratings.csv'"
     ]
    }
   ],
   "source": [
    "# Read cleaned movie data into pandas dataframe\n",
    "IMDB_movies_df=pd.read_csv(\"Resources/IMDB_movies_and_ratings.csv\")\n",
    "\n",
    "# Data clean: remove old index from csv file\n",
    "del IMDB_movies_df[\"Unnamed: 0\"]\n",
    "\n",
    "# Print a sample view of the data\n",
    "IMDB_movies_df.head()"
   ]
  },
  {
   "cell_type": "markdown",
   "metadata": {},
   "source": [
    "A separate CSV file was created from the preliminary output of data from the merged files and inital cleaning process.\n",
    "The duplicate index from the CSV file under the column, \"\"Unnamed: 0\", needed to be removed. "
   ]
  },
  {
   "cell_type": "code",
   "execution_count": null,
   "metadata": {},
   "outputs": [],
   "source": [
    "# Print a list of columns to view column names\n",
    "print (\"Column titles:  \")\n",
    "print (\" \")\n",
    "for col in IMDB_movies_df.columns:\n",
    "    print(col)\n",
    "    \n",
    "print (\" \")\n",
    "print (\"-----------------------\")    \n",
    "print (\" \")\n",
    "\n",
    "# Print the records count to determine level of magnitude\n",
    "print (\"Number of movies in this dataset:  \")\n",
    "len(IMDB_movies_df)    "
   ]
  },
  {
   "cell_type": "code",
   "execution_count": null,
   "metadata": {},
   "outputs": [],
   "source": [
    "This step prints out the column-headings of the workfile to determine the scope and level of magnitude."
   ]
  },
  {
   "cell_type": "code",
   "execution_count": null,
   "metadata": {},
   "outputs": [],
   "source": [
    "# Filter data for movieS made from 1997 to present\n",
    "# movies_made_after_1997 = IMDB_movies_df.loc[IMDB_movies_df[\"year\"] >= 1997].loc[IMDB_movies_df[\"year\"] <= 2017]\n",
    "movies_made_after_1997 = IMDB_movies_df.loc[IMDB_movies_df[\"year\"] >= 1997]\n",
    "\n",
    "# Remove incomplete data from year 2019\n",
    "movies_made_before_2018 = movies_made_after_1997.loc[IMDB_movies_df[\"year\"] <= 2017]\n",
    "\n",
    "# Filter data for movies made from 1997 to present that were made in the USA\n",
    "USA_movies = movies_made_before_2018.loc[movies_made_after_1997[\"country\"] == \"USA\"]\n",
    "USA_movies.reset_index()\n",
    "USA_movies"
   ]
  },
  {
   "cell_type": "code",
   "execution_count": null,
   "metadata": {},
   "outputs": [],
   "source": [
    "Data preparation and cleaning: The data is filtered to include only the relevant data for the study.\n",
    "                            Data on USA movies for the years between 1997 and 2017 only, are isolated."
   ]
  },
  {
   "cell_type": "code",
   "execution_count": null,
   "metadata": {},
   "outputs": [],
   "source": [
    "# Create, save to CSV and View dataset on number of viewers by year \n",
    "USA_movies_by_year = pd.DataFrame(USA_movies.groupby(\"year\").sum())\n",
    "\n",
    "# save merge data into a new csv file for further analysis\n",
    "USA_movies_by_year.to_csv(\"Resources/USA_movies_by_year_from_1997.csv\")\n",
    "\n",
    "# show the data\n",
    "USA_movies_by_year"
   ]
  },
  {
   "cell_type": "code",
   "execution_count": null,
   "metadata": {},
   "outputs": [],
   "source": [
    "The final step in the Gender-Age Group analysis is to group the data by year to show trends over time in the visualizations."
   ]
  },
  {
   "cell_type": "code",
   "execution_count": null,
   "metadata": {},
   "outputs": [],
   "source": [
    "# Collect the years where data was collected\n",
    "USA_movies_by_year.reset_index(inplace = True)\n",
    "\n",
    "# Create labels for the X and Y axis\n",
    "plt.title(\"Count of Movie Goers By Gender from 1997 through 2017\", fontsize=20)\n",
    "plt.xlabel(\"Years\", fontsize=10)\n",
    "plt.ylabel(\"Number of Movie Goers (in millions)\", fontsize=10)\n",
    "plt.xticks(range(1997,2018), rotation='vertical')\n",
    "\n",
    "plt.style.use(\"seaborn-poster\")\n",
    "plt.grid(axis=\"y\")\n",
    "\n",
    "# Plot the chart and apply some styling\n",
    "male_viewers, = plt.plot(USA_movies_by_year['year'], USA_movies_by_year['males_allages_votes'],\n",
    "                         color='b', marker=\"^\", markersize=7, label=\"Total Male Movie Goers\")\n",
    "\n",
    "female_viewers, = plt.plot(USA_movies_by_year['year'], USA_movies_by_year['females_allages_votes'],\n",
    "                           color='r',  marker=\"o\", markersize=7, label=\"Total Female Movie Goers\")\n",
    "\n",
    "plt.legend(handles=[male_viewers, female_viewers], fontsize=14, fancybox=True, shadow=True)"
   ]
  },
  {
   "cell_type": "code",
   "execution_count": null,
   "metadata": {},
   "outputs": [],
   "source": [
    "The graph shows movie attendance by gender. \n",
    "The disparity between the sexes show male movie goers are more inclined to include the movies as an entertainment option."
   ]
  },
  {
   "cell_type": "code",
   "execution_count": null,
   "metadata": {},
   "outputs": [],
   "source": [
    "# Create Graph of Male Movie Goers by Age Group\n",
    "\n",
    "# Create labels for the X and Y axis\n",
    "plt.title(\"Count of Male Movie Goers By Age Group from 1997 through 2017\", fontsize=20)\n",
    "plt.xlabel(\"Years\", fontsize=14)\n",
    "plt.ylabel(\"Number of Male Movie Goers\", fontsize=14)\n",
    "plt.xticks(range(1997,2018), rotation='vertical')\n",
    "\n",
    "plt.style.use(\"seaborn-poster\")\n",
    "plt.grid(axis=\"y\")\n",
    "\n",
    "# Plot the chart and apply some styling\n",
    "male_viewers_under18, = plt.plot(USA_movies_by_year['year'], USA_movies_by_year['males_0age_votes'],\n",
    "                         color='r', marker=\"^\", markersize=7, label=\"Male Movie Goers under 18 yrs old\")\n",
    "\n",
    "male_viewers_18_30, = plt.plot(USA_movies_by_year['year'], USA_movies_by_year['males_18age_votes'],\n",
    "                           color='g',  marker=\"o\", markersize=7,\n",
    "                               label=\"Male Movie Goers with ages between 18 & 29 yrs old\")\n",
    "\n",
    "male_viewers_30_45, = plt.plot(USA_movies_by_year['year'], USA_movies_by_year['males_30age_votes'],\n",
    "                         color='b', marker=\"s\", markersize=7,\n",
    "                               label=\"Male Movie Goers with ages between 30 & 44 yrs old\")\n",
    "\n",
    "male_viewers_over45, = plt.plot(USA_movies_by_year['year'], USA_movies_by_year['males_45age_votes'],\n",
    "                           color='k',  marker=\"d\", markersize=7,\n",
    "                               label=\"Male Movie Goers with Ages 45 yrs old & Over\")\n",
    "\n",
    "plt.legend(handles=[male_viewers_under18, male_viewers_18_30, male_viewers_30_45, male_viewers_over45],\n",
    "           fontsize=11, fancybox=True, shadow=True)"
   ]
  },
  {
   "cell_type": "code",
   "execution_count": null,
   "metadata": {},
   "outputs": [],
   "source": [
    "The graph shows male movie viewer attendance by age-group. \n",
    "Male movie goers between the ages of 30 to 44 years of age\n",
    "    have consistently outpaced all other age-groups in terms of attendance."
   ]
  },
  {
   "cell_type": "code",
   "execution_count": null,
   "metadata": {},
   "outputs": [],
   "source": [
    "# Create Graph of Male Movie Goers by Age Group\n",
    "\n",
    "# Create labels for the X and Y axis\n",
    "plt.title(\"Count of Female Movie Goers By Age Group from 1997 through 2017\", fontsize=20)\n",
    "plt.xlabel(\"Years\", fontsize=14)\n",
    "plt.ylabel(\"Number of Female Movie Goers\", fontsize=14)\n",
    "plt.xticks(range(1997,2018), rotation='vertical')\n",
    "\n",
    "plt.style.use(\"seaborn-poster\")\n",
    "plt.grid(axis=\"y\")\n",
    "\n",
    "# Plot the charts and apply some styling\n",
    "female_viewers_under18, = plt.plot(USA_movies_by_year['year'], USA_movies_by_year['females_0age_votes'],\n",
    "                         color='r', marker=\"^\", markersize=7, label=\"Female Movie Goers under 18 yrs old\")\n",
    "\n",
    "female_viewers_18_30, = plt.plot(USA_movies_by_year['year'], USA_movies_by_year['females_18age_votes'],\n",
    "                           color='g',  marker=\"o\", markersize=7,\n",
    "                               label=\"Female Movie Goers with ages between 18 & 29 yrs old\")\n",
    "\n",
    "female_viewers_30_45, = plt.plot(USA_movies_by_year['year'], USA_movies_by_year['females_30age_votes'],\n",
    "                         color='b', marker=\"s\", markersize=7,\n",
    "                               label=\"Female Movie Goers with ages between 30 & 44 yrs old\")\n",
    "\n",
    "female_viewers_over45, = plt.plot(USA_movies_by_year['year'], USA_movies_by_year['females_45age_votes'],\n",
    "                           color='k',  marker=\"d\", markersize=7,\n",
    "                               label=\"Female Movie Goers with Ages 45 yrs old & Over\")\n",
    "\n",
    "plt.legend(handles=[female_viewers_under18, female_viewers_18_30, female_viewers_30_45, female_viewers_over45],\n",
    "           fontsize=12, fancybox=True, shadow=True)"
   ]
  },
  {
   "cell_type": "code",
   "execution_count": null,
   "metadata": {},
   "outputs": [],
   "source": [
    "The graph shows female movie viewer attendance by age-group. \n",
    "Female movie goers between the ages of 30 to 44 years of age show high attendance in the first half of the study timeframe.\n",
    "The younger group of female movie goers between the ages of  18 to 29 years of age, pick up interest from 2009 going forward.\n",
    "A review of movies and movie genre produced within this time frame might hold clues on the resurgent interest by this age-group."
   ]
  }
 ],
 "metadata": {
  "kernelspec": {
   "display_name": "Python 3",
   "language": "python",
   "name": "python3"
  },
  "language_info": {
   "codemirror_mode": {
    "name": "ipython",
    "version": 3
   },
   "file_extension": ".py",
   "mimetype": "text/x-python",
   "name": "python",
   "nbconvert_exporter": "python",
   "pygments_lexer": "ipython3",
   "version": "3.6.9"
  }
 },
 "nbformat": 4,
 "nbformat_minor": 2
}
