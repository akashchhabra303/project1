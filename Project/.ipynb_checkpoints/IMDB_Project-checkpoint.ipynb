{
 "cells": [
  {
   "cell_type": "markdown",
   "metadata": {},
   "source": [
    "IMDB Movie Project\n",
    "Limits of project: U.S. movie industry only\n",
    "Timeframe: 1997 – 2017\n",
    "Data source: IMDB\n",
    "Objective: research on the trends and continuing viability of the movie industryCharts and analysis to focus on:\n",
    "               - examine movies made between the years 1997 thru 2017 and the growth of viewership\n",
    "  based on gross income divided by average ticket price.\n",
    "(see Nick’s slack: https://www.natoonline.org/data/ticket-price/ )\n",
    "               - examine movie viewer demographics by gender\n",
    "               - examine movie viewer gender genre preferences\n",
    "               - examine movie viewer demographics by age\n",
    "               - examine movie viewer age genre preferences\n",
    "               - examine the top 5 production companies by gross income and their movie genre focus\n",
    "               - examine the bottom 5 production companies by gross income and their movie genre focus"
   ]
  },
  {
   "cell_type": "code",
   "execution_count": null,
   "metadata": {},
   "outputs": [],
   "source": []
  },
  {
   "cell_type": "code",
   "execution_count": null,
   "metadata": {},
   "outputs": [],
   "source": []
  }
 ],
 "metadata": {
  "kernelspec": {
   "display_name": "Python 3",
   "language": "python",
   "name": "python3"
  },
  "language_info": {
   "codemirror_mode": {
    "name": "ipython",
    "version": 3
   },
   "file_extension": ".py",
   "mimetype": "text/x-python",
   "name": "python",
   "nbconvert_exporter": "python",
   "pygments_lexer": "ipython3",
   "version": "3.6.9"
  }
 },
 "nbformat": 4,
 "nbformat_minor": 2
}
